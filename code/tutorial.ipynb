{
 "cells": [
  {
   "cell_type": "code",
   "execution_count": 1,
   "id": "09342958-b599-4ed9-b8e1-51dc5e70ff32",
   "metadata": {},
   "outputs": [
    {
     "name": "stdout",
     "output_type": "stream",
     "text": [
      "no change     /home/lizalfos/miniconda3/condabin/conda\n",
      "no change     /home/lizalfos/miniconda3/bin/conda\n",
      "no change     /home/lizalfos/miniconda3/bin/conda-env\n",
      "no change     /home/lizalfos/miniconda3/bin/activate\n",
      "no change     /home/lizalfos/miniconda3/bin/deactivate\n",
      "no change     /home/lizalfos/miniconda3/etc/profile.d/conda.sh\n",
      "no change     /home/lizalfos/miniconda3/etc/fish/conf.d/conda.fish\n",
      "no change     /home/lizalfos/miniconda3/shell/condabin/Conda.psm1\n",
      "no change     /home/lizalfos/miniconda3/shell/condabin/conda-hook.ps1\n",
      "no change     /home/lizalfos/miniconda3/lib/python3.12/site-packages/xontrib/conda.xsh\n",
      "no change     /home/lizalfos/miniconda3/etc/profile.d/conda.csh\n",
      "no change     /home/lizalfos/.bashrc\n",
      "No action taken.\n",
      "\n",
      "CondaError: Run 'conda init' before 'conda activate'\n",
      "\n"
     ]
    }
   ],
   "source": [
    "import os \n",
    "# os.chdir('/home/lizalfos/variant-calling/data/pan-maf/maf-raw')\n",
    "os.chdir('/home/lizalfos/variant-calling/')\n",
    "os.getcwd()\n",
    "#\"for running later (gdc-client download -m gdc_manifest.2025-03-17.182102.txt) large dataset for MAF from GDC\"\n",
    "# Data import\n",
    "# !gdc-client download -m gdc_manifest.2025-03-17.182102.txt\n",
    "!conda init\n",
    "!conda activate somatic-variant-calling"
   ]
  },
  {
   "cell_type": "code",
   "execution_count": 2,
   "id": "d23e7b83",
   "metadata": {},
   "outputs": [
    {
     "name": "stdout",
     "output_type": "stream",
     "text": [
      "/home/lizalfos/variant-calling\n",
      "Current working directory: /home/lizalfos/variant-calling\n",
      "Notebook real path: /home/lizalfos/variant-calling\n"
     ]
    }
   ],
   "source": [
    "print(os.getcwd())\n",
    "os.chdir('/home/lizalfos/variant-calling/')\n",
    "\n",
    "import os\n",
    "\n",
    "# Get the current working directory\n",
    "current_dir = os.getcwd()\n",
    "print(\"Current working directory:\", current_dir)\n",
    "\n",
    "# Get the absolute path of the notebook\n",
    "notebook_path = os.path.realpath(\".\")\n",
    "print(\"Notebook real path:\", notebook_path)"
   ]
  },
  {
   "cell_type": "code",
   "execution_count": 5,
   "id": "33672e2b",
   "metadata": {},
   "outputs": [
    {
     "name": "stdout",
     "output_type": "stream",
     "text": [
      "/home/lizalfos/variant-calling/data/example-vcf/raw-example-vcf/vcf\n"
     ]
    }
   ],
   "source": [
    "os.chdir('/home/lizalfos/variant-calling/data/example-vcf/raw-example-vcf/vcf/')\n",
    "print(os.getcwd())\n"
   ]
  },
  {
   "cell_type": "code",
   "execution_count": null,
   "id": "754a76e6",
   "metadata": {},
   "outputs": [
    {
     "name": "stdout",
     "output_type": "stream",
     "text": [
      "File exists!\n"
     ]
    }
   ],
   "source": [
    "\n",
    "file_path = \"Cosmic_GenomeScreensMutant_Normal_v101_GRCh37.vcf\"\n",
    "\n",
    "if os.path.exists(file_path):\n",
    "    print(\"File exists!\")\n",
    "else:\n",
    "    print(\"File does not exist.\")\n"
   ]
  },
  {
   "cell_type": "code",
   "execution_count": null,
   "id": "be58b498",
   "metadata": {},
   "outputs": [],
   "source": [
    "from cyvcf2 import VCF\n",
    "\n",
    "# Load the VCF file\n",
    "vcf_file = 'Cosmic_GenomeScreensMutant_Normal_v101_GRCh37.vcf'\n",
    "vcf = VCF(vcf_file)\n",
    "\n",
    "# Iterate through variants\n",
    "for variant in vcf:\n",
    "    print(f\"Chromosome: {variant.CHROM}, Position: {variant.POS}, Ref: {variant.REF}, Alt: {variant.ALT}\")"
   ]
  },
  {
   "cell_type": "code",
   "execution_count": 36,
   "id": "e6e1ac52",
   "metadata": {},
   "outputs": [
    {
     "name": "stdout",
     "output_type": "stream",
     "text": [
      "   #CHROM    POS             ID REF ALT QUAL FILTER  \\\n",
      "0       1  69118  COSV108122140   C   A    .      .   \n",
      "1       1  69224   COSV58737130   A   C    .      .   \n",
      "2       1  69230   COSV58737076   A   C    .      .   \n",
      "3       1  69236   COSV58737142   A   C    .      .   \n",
      "4       1  69270   COSV58736820   A   G    .      .   \n",
      "\n",
      "                                                INFO  \n",
      "0  GENE=OR4F5;TRANSCRIPT=ENST00000335137.3;STRAND...  \n",
      "1  GENE=OR4F5;TRANSCRIPT=ENST00000335137.3;STRAND...  \n",
      "2  GENE=OR4F5;TRANSCRIPT=ENST00000335137.3;STRAND...  \n",
      "3  GENE=OR4F5;TRANSCRIPT=ENST00000335137.3;STRAND...  \n",
      "4  GENE=OR4F5;TRANSCRIPT=ENST00000335137.3;STRAND...  \n"
     ]
    }
   ],
   "source": [
    "import pandas as pd\n",
    "\n",
    "# Path to your VCF file\n",
    "vcf_file = '/home/lizalfos/variant-calling/data/example-vcf/raw-example-vcf/vcf/Cosmic_GenomeScreensMutant_Normal_v101_GRCh37.vcf'\n",
    "\n",
    "# Define the correct column names for a VCF file\n",
    "columns = ['#CHROM', 'POS', 'ID', 'REF', 'ALT', 'QUAL', 'FILTER', 'INFO']\n",
    "\n",
    "# Load the VCF file, skipping metadata lines (lines starting with '##')\n",
    "vcf_data = pd.read_csv(vcf_file, sep='\\t', comment='#', names=columns, skiprows=1)\n",
    "\n",
    "# Display the first few rows\n",
    "print(vcf_data.head())"
   ]
  },
  {
   "cell_type": "code",
   "execution_count": 43,
   "id": "9b8b17ad",
   "metadata": {},
   "outputs": [
    {
     "name": "stdout",
     "output_type": "stream",
     "text": [
      "Unique values in the column: ['C' 'A' 'G' 'T' 'GT']\n"
     ]
    }
   ],
   "source": [
    "# Assuming you have a DataFrame named vcf_data\n",
    "# Replace 'COLUMN_NAME' with the name of the column you want to inspect\n",
    "\n",
    "unique_values = vcf_data['REF'].unique()\n",
    "print(\"Unique values in the column:\", unique_values)"
   ]
  },
  {
   "cell_type": "code",
   "execution_count": null,
   "id": "2561ab37",
   "metadata": {},
   "outputs": [],
   "source": []
  },
  {
   "cell_type": "code",
   "execution_count": 39,
   "id": "33e9e995",
   "metadata": {},
   "outputs": [
    {
     "ename": "TypeError",
     "evalue": "'>' not supported between instances of 'str' and 'int'",
     "output_type": "error",
     "traceback": [
      "\u001b[0;31m---------------------------------------------------------------------------\u001b[0m",
      "\u001b[0;31mTypeError\u001b[0m                                 Traceback (most recent call last)",
      "Cell \u001b[0;32mIn[39], line 1\u001b[0m\n\u001b[0;32m----> 1\u001b[0m high_quality_variants \u001b[38;5;241m=\u001b[39m vcf_data[\u001b[43mvcf_data\u001b[49m\u001b[43m[\u001b[49m\u001b[38;5;124;43m'\u001b[39;49m\u001b[38;5;124;43mQUAL\u001b[39;49m\u001b[38;5;124;43m'\u001b[39;49m\u001b[43m]\u001b[49m\u001b[43m \u001b[49m\u001b[38;5;241;43m>\u001b[39;49m\u001b[43m \u001b[49m\u001b[38;5;241;43m30\u001b[39;49m]\n",
      "File \u001b[0;32m~/miniconda3/envs/somatic-variant-calling/lib/python3.9/site-packages/pandas/core/ops/common.py:70\u001b[0m, in \u001b[0;36m_unpack_zerodim_and_defer.<locals>.new_method\u001b[0;34m(self, other)\u001b[0m\n\u001b[1;32m     66\u001b[0m             \u001b[38;5;28;01mreturn\u001b[39;00m \u001b[38;5;28mNotImplemented\u001b[39m\n\u001b[1;32m     68\u001b[0m other \u001b[38;5;241m=\u001b[39m item_from_zerodim(other)\n\u001b[0;32m---> 70\u001b[0m \u001b[38;5;28;01mreturn\u001b[39;00m \u001b[43mmethod\u001b[49m\u001b[43m(\u001b[49m\u001b[38;5;28;43mself\u001b[39;49m\u001b[43m,\u001b[49m\u001b[43m \u001b[49m\u001b[43mother\u001b[49m\u001b[43m)\u001b[49m\n",
      "File \u001b[0;32m~/miniconda3/envs/somatic-variant-calling/lib/python3.9/site-packages/pandas/core/arraylike.py:56\u001b[0m, in \u001b[0;36mOpsMixin.__gt__\u001b[0;34m(self, other)\u001b[0m\n\u001b[1;32m     54\u001b[0m \u001b[38;5;129m@unpack_zerodim_and_defer\u001b[39m(\u001b[38;5;124m\"\u001b[39m\u001b[38;5;124m__gt__\u001b[39m\u001b[38;5;124m\"\u001b[39m)\n\u001b[1;32m     55\u001b[0m \u001b[38;5;28;01mdef\u001b[39;00m\u001b[38;5;250m \u001b[39m\u001b[38;5;21m__gt__\u001b[39m(\u001b[38;5;28mself\u001b[39m, other):\n\u001b[0;32m---> 56\u001b[0m     \u001b[38;5;28;01mreturn\u001b[39;00m \u001b[38;5;28;43mself\u001b[39;49m\u001b[38;5;241;43m.\u001b[39;49m\u001b[43m_cmp_method\u001b[49m\u001b[43m(\u001b[49m\u001b[43mother\u001b[49m\u001b[43m,\u001b[49m\u001b[43m \u001b[49m\u001b[43moperator\u001b[49m\u001b[38;5;241;43m.\u001b[39;49m\u001b[43mgt\u001b[49m\u001b[43m)\u001b[49m\n",
      "File \u001b[0;32m~/miniconda3/envs/somatic-variant-calling/lib/python3.9/site-packages/pandas/core/series.py:5623\u001b[0m, in \u001b[0;36mSeries._cmp_method\u001b[0;34m(self, other, op)\u001b[0m\n\u001b[1;32m   5620\u001b[0m rvalues \u001b[38;5;241m=\u001b[39m extract_array(other, extract_numpy\u001b[38;5;241m=\u001b[39m\u001b[38;5;28;01mTrue\u001b[39;00m, extract_range\u001b[38;5;241m=\u001b[39m\u001b[38;5;28;01mTrue\u001b[39;00m)\n\u001b[1;32m   5622\u001b[0m \u001b[38;5;28;01mwith\u001b[39;00m np\u001b[38;5;241m.\u001b[39merrstate(\u001b[38;5;28mall\u001b[39m\u001b[38;5;241m=\u001b[39m\u001b[38;5;124m\"\u001b[39m\u001b[38;5;124mignore\u001b[39m\u001b[38;5;124m\"\u001b[39m):\n\u001b[0;32m-> 5623\u001b[0m     res_values \u001b[38;5;241m=\u001b[39m \u001b[43mops\u001b[49m\u001b[38;5;241;43m.\u001b[39;49m\u001b[43mcomparison_op\u001b[49m\u001b[43m(\u001b[49m\u001b[43mlvalues\u001b[49m\u001b[43m,\u001b[49m\u001b[43m \u001b[49m\u001b[43mrvalues\u001b[49m\u001b[43m,\u001b[49m\u001b[43m \u001b[49m\u001b[43mop\u001b[49m\u001b[43m)\u001b[49m\n\u001b[1;32m   5625\u001b[0m \u001b[38;5;28;01mreturn\u001b[39;00m \u001b[38;5;28mself\u001b[39m\u001b[38;5;241m.\u001b[39m_construct_result(res_values, name\u001b[38;5;241m=\u001b[39mres_name)\n",
      "File \u001b[0;32m~/miniconda3/envs/somatic-variant-calling/lib/python3.9/site-packages/pandas/core/ops/array_ops.py:283\u001b[0m, in \u001b[0;36mcomparison_op\u001b[0;34m(left, right, op)\u001b[0m\n\u001b[1;32m    280\u001b[0m     \u001b[38;5;28;01mreturn\u001b[39;00m invalid_comparison(lvalues, rvalues, op)\n\u001b[1;32m    282\u001b[0m \u001b[38;5;28;01melif\u001b[39;00m is_object_dtype(lvalues\u001b[38;5;241m.\u001b[39mdtype) \u001b[38;5;129;01mor\u001b[39;00m \u001b[38;5;28misinstance\u001b[39m(rvalues, \u001b[38;5;28mstr\u001b[39m):\n\u001b[0;32m--> 283\u001b[0m     res_values \u001b[38;5;241m=\u001b[39m \u001b[43mcomp_method_OBJECT_ARRAY\u001b[49m\u001b[43m(\u001b[49m\u001b[43mop\u001b[49m\u001b[43m,\u001b[49m\u001b[43m \u001b[49m\u001b[43mlvalues\u001b[49m\u001b[43m,\u001b[49m\u001b[43m \u001b[49m\u001b[43mrvalues\u001b[49m\u001b[43m)\u001b[49m\n\u001b[1;32m    285\u001b[0m \u001b[38;5;28;01melse\u001b[39;00m:\n\u001b[1;32m    286\u001b[0m     res_values \u001b[38;5;241m=\u001b[39m _na_arithmetic_op(lvalues, rvalues, op, is_cmp\u001b[38;5;241m=\u001b[39m\u001b[38;5;28;01mTrue\u001b[39;00m)\n",
      "File \u001b[0;32m~/miniconda3/envs/somatic-variant-calling/lib/python3.9/site-packages/pandas/core/ops/array_ops.py:73\u001b[0m, in \u001b[0;36mcomp_method_OBJECT_ARRAY\u001b[0;34m(op, x, y)\u001b[0m\n\u001b[1;32m     71\u001b[0m     result \u001b[38;5;241m=\u001b[39m libops\u001b[38;5;241m.\u001b[39mvec_compare(x\u001b[38;5;241m.\u001b[39mravel(), y\u001b[38;5;241m.\u001b[39mravel(), op)\n\u001b[1;32m     72\u001b[0m \u001b[38;5;28;01melse\u001b[39;00m:\n\u001b[0;32m---> 73\u001b[0m     result \u001b[38;5;241m=\u001b[39m \u001b[43mlibops\u001b[49m\u001b[38;5;241;43m.\u001b[39;49m\u001b[43mscalar_compare\u001b[49m\u001b[43m(\u001b[49m\u001b[43mx\u001b[49m\u001b[38;5;241;43m.\u001b[39;49m\u001b[43mravel\u001b[49m\u001b[43m(\u001b[49m\u001b[43m)\u001b[49m\u001b[43m,\u001b[49m\u001b[43m \u001b[49m\u001b[43my\u001b[49m\u001b[43m,\u001b[49m\u001b[43m \u001b[49m\u001b[43mop\u001b[49m\u001b[43m)\u001b[49m\n\u001b[1;32m     74\u001b[0m \u001b[38;5;28;01mreturn\u001b[39;00m result\u001b[38;5;241m.\u001b[39mreshape(x\u001b[38;5;241m.\u001b[39mshape)\n",
      "File \u001b[0;32m~/miniconda3/envs/somatic-variant-calling/lib/python3.9/site-packages/pandas/_libs/ops.pyx:107\u001b[0m, in \u001b[0;36mpandas._libs.ops.scalar_compare\u001b[0;34m()\u001b[0m\n",
      "\u001b[0;31mTypeError\u001b[0m: '>' not supported between instances of 'str' and 'int'"
     ]
    }
   ],
   "source": [
    "high_quality_variants = vcf_data[vcf_data['QUAL'] > 30]"
   ]
  }
 ],
 "metadata": {
  "kernelspec": {
   "display_name": "somatic-variant-calling",
   "language": "python",
   "name": "python3"
  },
  "language_info": {
   "codemirror_mode": {
    "name": "ipython",
    "version": 3
   },
   "file_extension": ".py",
   "mimetype": "text/x-python",
   "name": "python",
   "nbconvert_exporter": "python",
   "pygments_lexer": "ipython3",
   "version": "3.9.7"
  }
 },
 "nbformat": 4,
 "nbformat_minor": 5
}
